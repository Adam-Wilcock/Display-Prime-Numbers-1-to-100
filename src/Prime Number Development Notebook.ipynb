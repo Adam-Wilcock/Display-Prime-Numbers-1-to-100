{
 "cells": [
  {
   "cell_type": "markdown",
   "metadata": {},
   "source": [
    "# Python Program- Displays all the prime numbers from 1 to 100"
   ]
  },
  {
   "cell_type": "markdown",
   "metadata": {},
   "source": [
    "This was made in Jupyter Notebook with Markdown"
   ]
  },
  {
   "cell_type": "markdown",
   "metadata": {},
   "source": [
    "## For Loops"
   ]
  },
  {
   "cell_type": "markdown",
   "metadata": {},
   "source": [
    "This python program will use two for loops - one inner loop and one outer loop"
   ]
  },
  {
   "cell_type": "markdown",
   "metadata": {},
   "source": [
    "### Outer Loop"
   ]
  },
  {
   "cell_type": "markdown",
   "metadata": {},
   "source": [
    "This loop will simply state how many numbers we want to iterate through"
   ]
  },
  {
   "cell_type": "code",
   "execution_count": null,
   "metadata": {},
   "outputs": [],
   "source": [
    "for i in range(1, 101): # We only want 100 numbers here so we need to increase the second value by 1 as for loops go up to but don't include the last value"
   ]
  },
  {
   "cell_type": "markdown",
   "metadata": {},
   "source": [
    "### Inner Loop"
   ]
  },
  {
   "cell_type": "markdown",
   "metadata": {},
   "source": [
    "This loop will get the number that we went to check to see if it is prime"
   ]
  },
  {
   "cell_type": "code",
   "execution_count": null,
   "metadata": {},
   "outputs": [],
   "source": [
    "for i in range(1, 101):\n",
    "    for l in range(1, i + 1): # If i = 2 and there was no addition of one to it, the for loop would only check to see if one is a prime number\n",
    "                              # This is because for loops go up to but don't include the last value\n",
    "                              # With the addition of 1, if i = 2, the for loop will check to see if two is a prime number"
   ]
  },
  {
   "cell_type": "markdown",
   "metadata": {},
   "source": [
    "## Count"
   ]
  },
  {
   "cell_type": "markdown",
   "metadata": {},
   "source": [
    "### Initialisation"
   ]
  },
  {
   "cell_type": "markdown",
   "metadata": {},
   "source": [
    "This python program will initialise count as zero within the outer loop - it needs to be reset after each inner loop has complete"
   ]
  },
  {
   "cell_type": "code",
   "execution_count": null,
   "metadata": {},
   "outputs": [],
   "source": [
    "for i in range(1, 101):\n",
    "    count = 0 # Set count to 0 - will reset to zero after each inner loop is complete because if not, no prime numbers will be found\n",
    "    for l in range(1, i + 1):"
   ]
  },
  {
   "cell_type": "markdown",
   "metadata": {},
   "source": [
    "### Increment"
   ]
  },
  {
   "cell_type": "markdown",
   "metadata": {},
   "source": [
    "This python program will increase count by 1 every time a condition is met"
   ]
  },
  {
   "cell_type": "code",
   "execution_count": null,
   "metadata": {},
   "outputs": [],
   "source": [
    "for i in range(1, 101):\n",
    "    count = 0\n",
    "    for i in range(1, i + 1):\n",
    "        if (i % l == 0): # EXPLAINED BELOW\n",
    "            count += 1 # Increment count by 1 each time the condition above is met"
   ]
  },
  {
   "cell_type": "markdown",
   "metadata": {},
   "source": [
    "### Count condition"
   ]
  },
  {
   "cell_type": "markdown",
   "metadata": {},
   "source": [
    "This python program will use a condition to only print out the prime numbers"
   ]
  },
  {
   "cell_type": "code",
   "execution_count": null,
   "metadata": {},
   "outputs": [],
   "source": [
    "for i in range(1, 101):\n",
    "    count = 0\n",
    "    for i in range(1, i + 1):\n",
    "        if (i % l == 0): # EXPLAINED BELOW\n",
    "            count += 1\n",
    "    if (count == 2): # Since a prime numbers need two criteria (Its only factors being 1 and itself), the prime number formula must be met twice before anything is output\n",
    "        print(i,end=\" \")"
   ]
  },
  {
   "cell_type": "markdown",
   "metadata": {},
   "source": [
    "## Prime Number formula"
   ]
  },
  {
   "cell_type": "markdown",
   "metadata": {},
   "source": [
    "A prime number is a whole number greater than than 1 whose only factors are 1 and itself"
   ]
  },
  {
   "cell_type": "markdown",
   "metadata": {},
   "source": [
    "The MOD (%) operator brings back the remainder of a division - e.g. 6%2 brings back 0 (3*2=6) 7%2 brings back 1 (3*2=6)"
   ]
  },
  {
   "cell_type": "code",
   "execution_count": null,
   "metadata": {},
   "outputs": [],
   "source": [
    "for i in range(1, 101):\n",
    "    count = 0\n",
    "    for i in range(1, i + 1):\n",
    "        if (i % l == 0): # % is the python operator for MOD - brings back remainder - if the two values (i & l) divided together bring back 0, increase count by 1\n",
    "            count += 1"
   ]
  },
  {
   "cell_type": "markdown",
   "metadata": {},
   "source": [
    "## Display"
   ]
  },
  {
   "cell_type": "markdown",
   "metadata": {},
   "source": [
    "This python program will output all the prime numbers on a single line with a gap in between them"
   ]
  },
  {
   "cell_type": "code",
   "execution_count": 3,
   "metadata": {},
   "outputs": [
    {
     "name": "stdout",
     "output_type": "stream",
     "text": [
      "2 3 5 7 11 13 17 19 23 29 31 37 41 43 47 53 59 61 67 71 73 79 83 89 97 "
     ]
    }
   ],
   "source": [
    "for i in range(1, 101):\n",
    "    count = 0\n",
    "    for l in range(1, i + 1):\n",
    "        if (i % l == 0):\n",
    "            count += 1\n",
    "    if (count == 2):\n",
    "        print(i,end=\" \") # Displays the prime numbers with a gap in between for better visual appearance"
   ]
  }
 ],
 "metadata": {
  "interpreter": {
   "hash": "039c0853a2582ad4de198165dfcad4e7600708508ca4e6ceb64c1a5eb7fac17b"
  },
  "kernelspec": {
   "display_name": "Python 3.9.12 ('base')",
   "language": "python",
   "name": "python3"
  },
  "language_info": {
   "codemirror_mode": {
    "name": "ipython",
    "version": 3
   },
   "file_extension": ".py",
   "mimetype": "text/x-python",
   "name": "python",
   "nbconvert_exporter": "python",
   "pygments_lexer": "ipython3",
   "version": "3.9.12"
  },
  "orig_nbformat": 4
 },
 "nbformat": 4,
 "nbformat_minor": 2
}
